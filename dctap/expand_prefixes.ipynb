{
 "cells": [
  {
   "cell_type": "code",
   "execution_count": 15,
   "id": "bb981550",
   "metadata": {},
   "outputs": [],
   "source": [
    "config_dict = {\n",
    "\"default_shape_name\": \":default\",\n",
    "\"prefixes\": { \":\": \"http://example.org/\",\n",
    "              \"dcterms:\": \"http://purl.org/dc/terms/\",\n",
    "              \"foaf\": \"http://xmlns.com/foaf/0.1/\",\n",
    "              \"id\": \"id.loc.gov\"\n",
    "             }\n",
    "}"
   ]
  },
  {
   "cell_type": "code",
   "execution_count": 16,
   "id": "92a81c61",
   "metadata": {},
   "outputs": [
    {
     "data": {
      "text/plain": [
       "{'default_shape_name': ':default',\n",
       " 'prefixes': {':': 'http://example.org/',\n",
       "  'dcterms:': 'http://purl.org/dc/terms/',\n",
       "  'foaf': 'http://xmlns.com/foaf/0.1/',\n",
       "  'id': 'id.loc.gov'}}"
      ]
     },
     "execution_count": 16,
     "metadata": {},
     "output_type": "execute_result"
    }
   ],
   "source": [
    "config_dict"
   ]
  },
  {
   "cell_type": "code",
   "execution_count": 17,
   "id": "a161d819",
   "metadata": {},
   "outputs": [
    {
     "data": {
      "text/plain": [
       "{':': 'http://example.org/',\n",
       " 'dcterms:': 'http://purl.org/dc/terms/',\n",
       " 'foaf': 'http://xmlns.com/foaf/0.1/',\n",
       " 'id': 'id.loc.gov'}"
      ]
     },
     "execution_count": 17,
     "metadata": {},
     "output_type": "execute_result"
    }
   ],
   "source": [
    "config_dict[\"prefixes\"]"
   ]
  },
  {
   "cell_type": "code",
   "execution_count": 18,
   "id": "cdb7adc9",
   "metadata": {},
   "outputs": [
    {
     "name": "stdout",
     "output_type": "stream",
     "text": [
      ":\n",
      "dcterms:\n",
      "foaf\n",
      "id\n"
     ]
    }
   ],
   "source": [
    "for prefix in config_dict[\"prefixes\"]:\n",
    "    print(prefix)"
   ]
  },
  {
   "cell_type": "code",
   "execution_count": 19,
   "id": "e1039dbd",
   "metadata": {},
   "outputs": [],
   "source": [
    "shapes_dict = {'shapes':  \n",
    "    [\n",
    "        {\n",
    "          'shapeID': ':book',\n",
    "          'statement_constraints': [\n",
    "                { \n",
    "                  'propertyID': 'dcterms:creator',\n",
    "                  'valueShape': ':author' \n",
    "                }, \n",
    "                {\n",
    "                  'propertyID': 'foaf:maker'\n",
    "                }\n",
    "          ]\n",
    "        }, \n",
    "        {\n",
    "          'shapeID': 'ibm:',\n",
    "          'statement_constraints': [\n",
    "                { \n",
    "                  'propertyID': 'dcterms:creator',\n",
    "                  'valueShape': 'id:12334' \n",
    "                }\n",
    "           ]\n",
    "        }\n",
    "    ]\n",
    "}"
   ]
  },
  {
   "cell_type": "code",
   "execution_count": null,
   "id": "aa727cbf",
   "metadata": {},
   "outputs": [],
   "source": []
  }
 ],
 "metadata": {
  "kernelspec": {
   "display_name": "dctapenv",
   "language": "python",
   "name": "dctapenv"
  },
  "language_info": {
   "codemirror_mode": {
    "name": "ipython",
    "version": 3
   },
   "file_extension": ".py",
   "mimetype": "text/x-python",
   "name": "python",
   "nbconvert_exporter": "python",
   "pygments_lexer": "ipython3",
   "version": "3.9.0"
  }
 },
 "nbformat": 4,
 "nbformat_minor": 5
}
